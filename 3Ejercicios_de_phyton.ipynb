{
  "nbformat": 4,
  "nbformat_minor": 0,
  "metadata": {
    "colab": {
      "provenance": [],
      "authorship_tag": "ABX9TyNKJZMl53NdkYmR4SN4Kljg",
      "include_colab_link": true
    },
    "kernelspec": {
      "name": "python3",
      "display_name": "Python 3"
    },
    "language_info": {
      "name": "python"
    }
  },
  "cells": [
    {
      "cell_type": "markdown",
      "metadata": {
        "id": "view-in-github",
        "colab_type": "text"
      },
      "source": [
        "<a href=\"https://colab.research.google.com/github/alu230847-sq/Repaso-Phyton/blob/main/3Ejercicios_de_phyton.ipynb\" target=\"_parent\"><img src=\"https://colab.research.google.com/assets/colab-badge.svg\" alt=\"Open In Colab\"/></a>"
      ]
    },
    {
      "cell_type": "markdown",
      "source": [
        "Ejercicios a desarrollar en colab con GitHub\n",
        "\n",
        "1- Realizar un programa en phyton que te permita capturar 2 numeros\n",
        "enteros e imprima la suma, la resta, la multi y la division de ambos.\n",
        "\n",
        "2.-Realizar un programa en phyton mediante el cual calcules el total de caracteres que tiene un nombre capturado desde el teclado.\n",
        "\n",
        "3,-Realizar un programa en phyton que permita imprimir los 7 dias de la semana."
      ],
      "metadata": {
        "id": "hxvmIkBV5PUv"
      }
    },
    {
      "cell_type": "code",
      "execution_count": 3,
      "metadata": {
        "colab": {
          "base_uri": "https://localhost:8080/"
        },
        "id": "pluJNioE5LbZ",
        "outputId": "b8a6e54b-d8c9-4495-ff4a-8593074bb15a"
      },
      "outputs": [
        {
          "output_type": "stream",
          "name": "stdout",
          "text": [
            "Ingresa los numeros a calcular-\n",
            "Tu numero uno: 2\n",
            "------------------------\n",
            "Tu numero dos: 2\n",
            "\n",
            "------------------------\n",
            "La suma es:  4\n",
            "La resta es:  0\n",
            "La multiplicacion es:  4\n",
            "La division es:  1.0\n"
          ]
        }
      ],
      "source": [
        "print (\"Ingresa los numeros a calcular-\")\n",
        "n1 = int(input(\"Tu numero uno: \"))\n",
        "print (\"------------------------\")\n",
        "n2 = int(input(\"Tu numero dos: \"))\n",
        "\n",
        "s = n1 + n2\n",
        "r = n1 - n2\n",
        "m = n1 * n2\n",
        "d = n1 / n2 if n2 != 0 else \"No se puede dividir entre cero\"\n",
        "\n",
        "print (\"\")\n",
        "print (\"------------------------\")\n",
        "\n",
        "print (\"La suma es: \", s)\n",
        "print (\"La resta es: \", r)\n",
        "print (\"La multiplicacion es: \", m)\n",
        "print (\"La division es: \", d)"
      ]
    },
    {
      "cell_type": "markdown",
      "source": [
        "2.-\n"
      ],
      "metadata": {
        "id": "PQt_4q347Low"
      }
    },
    {
      "cell_type": "markdown",
      "source": [
        "3.--\n"
      ],
      "metadata": {
        "id": "DSBYfeIz7lCn"
      }
    },
    {
      "cell_type": "code",
      "source": [
        "nom=(input(\"Ingresa tu nombre: \"))\n",
        "carc=len(nom)\n",
        "for i in range(carc):\n",
        "  if (nom[i]) == \" \":\n",
        "    carc=carc-1\n",
        "else:\n",
        "  print(\"Tu nombre tiene: \", carc, \"caracteres\")"
      ],
      "metadata": {
        "colab": {
          "base_uri": "https://localhost:8080/"
        },
        "id": "QdQiZn5p-MZG",
        "outputId": "1df90042-ee73-4125-aaef-24f823b76e02"
      },
      "execution_count": 30,
      "outputs": [
        {
          "output_type": "stream",
          "name": "stdout",
          "text": [
            "Ingresa tu nombre: angel eduardo\n",
            "Tu nombre tiene 12 caracteres\n"
          ]
        }
      ]
    },
    {
      "cell_type": "code",
      "source": [
        "semana = [\"Lunes\", \"Martes\", \"Miercoles\", \"Jueves\", \"Viernes\", \"Sabado\", \"Domingo\"]\n",
        "res=(input(\"Quieres imprimir la semana? \"))\n",
        "if res.lower() == \"si\":\n",
        "  for dia in semana:\n",
        "    print(\"Dia: \" + dia)\n",
        "else:\n",
        "  print(\"No se muestra la lista\")"
      ],
      "metadata": {
        "colab": {
          "base_uri": "https://localhost:8080/"
        },
        "id": "ynEc50-J9uX4",
        "outputId": "197ef6e8-704e-4f39-a3ca-67ecc228fc9e"
      },
      "execution_count": 23,
      "outputs": [
        {
          "output_type": "stream",
          "name": "stdout",
          "text": [
            "Quieres imprimir la semana? si\n",
            "Dia: Lunes\n",
            "Dia: Martes\n",
            "Dia: Miercoles\n",
            "Dia: Jueves\n",
            "Dia: Viernes\n",
            "Dia: Sabado\n",
            "Dia: Domingo\n"
          ]
        }
      ]
    }
  ]
}