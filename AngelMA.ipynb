{
  "nbformat": 4,
  "nbformat_minor": 0,
  "metadata": {
    "colab": {
      "provenance": [],
      "authorship_tag": "ABX9TyNM6kPx9yQNYhZ8lr+nxBrU",
      "include_colab_link": true
    },
    "kernelspec": {
      "name": "python3",
      "display_name": "Python 3"
    },
    "language_info": {
      "name": "python"
    }
  },
  "cells": [
    {
      "cell_type": "markdown",
      "metadata": {
        "id": "view-in-github",
        "colab_type": "text"
      },
      "source": [
        "<a href=\"https://colab.research.google.com/github/alu230847-sq/Repaso-Phyton/blob/main/AngelMA.ipynb\" target=\"_parent\"><img src=\"https://colab.research.google.com/assets/colab-badge.svg\" alt=\"Open In Colab\"/></a>"
      ]
    },
    {
      "cell_type": "code",
      "execution_count": null,
      "metadata": {
        "id": "aNPl942ez6dH"
      },
      "outputs": [],
      "source": []
    },
    {
      "cell_type": "markdown",
      "source": [
        "Programa 1 en phyton para imprimir el nombre con hola mundo"
      ],
      "metadata": {
        "id": "IO-blWH-0Men"
      }
    },
    {
      "cell_type": "code",
      "source": [
        "print(\"Hola mundo\")\n",
        "nombre=(input(\"Captura tu nombre: \"))\n",
        "print (nombre)"
      ],
      "metadata": {
        "colab": {
          "base_uri": "https://localhost:8080/"
        },
        "id": "bCU2rGVP0yeU",
        "outputId": "8857cde8-1d99-4727-9f54-baa5fe753cb2"
      },
      "execution_count": 5,
      "outputs": [
        {
          "output_type": "stream",
          "name": "stdout",
          "text": [
            "Hola mundo\n",
            "Captura tu nombre: el joker\n",
            "el joker\n"
          ]
        }
      ]
    },
    {
      "cell_type": "markdown",
      "source": [
        "Programa 2 Capturar tu nombre, paterno y materno e imprimirlo en pantalla"
      ],
      "metadata": {
        "id": "DDITdphV1ZvC"
      }
    },
    {
      "cell_type": "code",
      "source": [
        "print(\"Ingresa tu nombre completo-\")\n",
        "nombre=input(\"Ingresa tu nombre: \")\n",
        "\n",
        "print(\"-\")\n",
        "print(\"Ingresa tus apellidos-\")\n",
        "print(\"-\")\n",
        "\n",
        "paterno=input(\"Ingresa paterno: \")\n",
        "materno=input(\"Ingresa materno: \")\n",
        "\n",
        "print(\"-\")\n",
        "print(nombre+paterno+materno)"
      ],
      "metadata": {
        "colab": {
          "base_uri": "https://localhost:8080/"
        },
        "id": "RXBdT7aY1fE5",
        "outputId": "dd495838-9297-4693-c4a3-6f706a3b6ecc"
      },
      "execution_count": 8,
      "outputs": [
        {
          "output_type": "stream",
          "name": "stdout",
          "text": [
            "Ingresa tu nombre completo-\n",
            "Ingresa tu nombre: angel\n",
            "-\n",
            "Ingresa tus apellidos-\n",
            "-\n",
            "Ingresa paterno: martinez\n",
            "Ingresa materno: arzate\n",
            "angelmartinezarzate\n"
          ]
        }
      ]
    }
  ]
}